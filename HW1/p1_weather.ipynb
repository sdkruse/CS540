{
 "cells": [
  {
   "cell_type": "code",
   "execution_count": 20,
   "metadata": {},
   "outputs": [
    {
     "name": "stdout",
     "output_type": "stream",
     "text": [
      "25548\n",
      "years\n",
      "['1939', '1940', '1941', '1942', '1943', '1944', '1945', '1946', '1947', '1948', '1949', '1950', '1951', '1952', '1953', '1954', '1955', '1956', '1957']\n",
      "Sorted array\n",
      "3653\n",
      "[{'DATE': '1948-01-01', 'TMAX': '51', 'PRCP': '0.47', 'TMIN': '42', 'RAIN': 'TRUE', 'DIST': 0.0}, {'DATE': '1952-01-31', 'TMAX': '51', 'PRCP': '0.43', 'TMIN': '42', 'RAIN': 'TRUE', 'DIST': 0.03999999999999998}, {'DATE': '1956-12-17', 'TMAX': '51', 'PRCP': '0.42', 'TMIN': '42', 'RAIN': 'TRUE', 'DIST': 0.04999999999999999}, {'DATE': '1949-11-10', 'TMAX': '51', 'PRCP': '0.27', 'TMIN': '42', 'RAIN': 'TRUE', 'DIST': 0.19999999999999996}, {'DATE': '1954-12-23', 'TMAX': '51', 'PRCP': '0.71', 'TMIN': '42', 'RAIN': 'TRUE', 'DIST': 0.24}]\n",
      "majority vote\n",
      "TRUE\n"
     ]
    },
    {
     "data": {
      "text/plain": [
       "'TRUE'"
      ]
     },
     "execution_count": 20,
     "metadata": {},
     "output_type": "execute_result"
    }
   ],
   "source": [
    "import math as M\n",
    "# – return the Manhattan distance between two dictionary data points from the data set.\n",
    "def manhattan_distance(data_point1, data_point2):\n",
    "    dmax = abs(float(data_point1['TMAX']) - float(data_point2['TMAX']))\n",
    "    dmin = abs(float(data_point1['TMIN']) - float(data_point2['TMIN']))\n",
    "    dprcp = abs(float(data_point1['PRCP']) - float(data_point2['PRCP']))\n",
    "    return dmax + dmin + dprcp\n",
    " # – return a list of data point dictionaries read from the specified file.    \n",
    "def read_dataset(filename):\n",
    "    weatherData = []\n",
    "    file = open(filename, \"r\")\n",
    "    for line in file:\n",
    "        line = line.strip(\"\\n\")\n",
    "        datos = line.split(\" \")\n",
    "        day = {'DATE':datos[0], 'TMAX':datos[2], 'PRCP':datos[1], 'TMIN':datos[3], 'RAIN': datos[4] }\n",
    "        weatherData.append(day)\n",
    "    file.close()\n",
    "    return weatherData\n",
    "\n",
    "# – return a prediction of whether it is raining or not based on a majority vote of the list of neighbors.\n",
    "def majority_vote(nearest_neighbors):\n",
    "    t = 0\n",
    "    for day in nearest_neighbors:\n",
    "        t = (t + 1 if day['RAIN'] == \"TRUE\" else t + 0)\n",
    "    return (\"TRUE\" if t >= M.ceil(float(len(nearest_neighbors))/2.0) else \"FALSE\")\n",
    "\n",
    "    # – using the above functions, return the majority vote prediction for whether it's raining or not on the provided test point.\n",
    "def k_nearest_neighbors(filename, test_point, k, year_interval):\n",
    "    weatherData = read_dataset(filename)\n",
    "    interval = calculate_interval(test_point['DATE'], year_interval)\n",
    "    possibleNeighbors = []\n",
    "    \n",
    "    for date in weatherData:\n",
    "        if is_in_interval(date[\"DATE\"], interval):\n",
    "            possibleNeighbors.append(date)\n",
    "            \n",
    "    with_distances = distance_comp(possibleNeighbors, test_point)\n",
    "    sorted_neighbors = sorted(with_distances, key = lambda i: i['DIST'])\n",
    "    return majority_vote(sorted_neighbors[:k])\n",
    "      \n",
    "def calculate_interval(date, year_interval):\n",
    "    year = int(date.split(\"-\")[0])\n",
    "    start_year = year - year_interval + 1\n",
    "    interval = []\n",
    "    for years in range(start_year, year + year_interval):\n",
    "        interval.append(str(years))\n",
    "    return interval\n",
    "\n",
    "def is_in_interval(date, interval):\n",
    "    return True if date.split(\"-\")[0] in interval else False\n",
    "\n",
    "def distance_comp(neighbors, test_point): \n",
    "    for neighbor in neighbors:\n",
    "        dist = manhattan_distance(neighbor, test_point)\n",
    "        neighbor['DIST'] = dist\n",
    "    return neighbors\n",
    "\n",
    "weatherData = read_dataset(\"rain.txt\")\n",
    "\n",
    "k_nearest_neighbors('rain.txt', {'DATE': '1948-01-01', 'TMAX': 51.0, 'PRCP': 0.47, 'TMIN': 42.0}, 5, 10)"
   ]
  },
  {
   "cell_type": "markdown",
   "metadata": {},
   "source": [
    ">>> majority_vote([{'DATE': '2015-08-12', 'TMAX': 83.0, 'PRCP': 0.3, 'TMIN': 62.0, 'RAIN': 'TRUE'},\n",
    "{'DATE': '2014-05-19', 'TMAX': 70.0, 'PRCP': 0.0, 'TMIN': 50.0, 'RAIN': 'FALSE'},\n",
    "{'DATE': '2014-12-05', 'TMAX': 55.0, 'PRCP': 0.12, 'TMIN': 44.0, 'RAIN': 'TRUE'},\n",
    "{'DATE': '1954-09-08', 'TMAX': 71.0, 'PRCP': 0.02, 'TMIN': 55.0, 'RAIN': 'TRUE'},\n",
    "{'DATE': '2014-08-27', 'TMAX': 84.0, 'PRCP': 0.0, 'TMIN': 61.0, 'RAIN': 'FALSE'}])\n",
    "=> 'TRUE'"
   ]
  },
  {
   "cell_type": "code",
   "execution_count": null,
   "metadata": {},
   "outputs": [],
   "source": []
  },
  {
   "cell_type": "code",
   "execution_count": null,
   "metadata": {},
   "outputs": [],
   "source": []
  }
 ],
 "metadata": {
  "kernelspec": {
   "display_name": "Python 3",
   "language": "python",
   "name": "python3"
  },
  "language_info": {
   "codemirror_mode": {
    "name": "ipython",
    "version": 3
   },
   "file_extension": ".py",
   "mimetype": "text/x-python",
   "name": "python",
   "nbconvert_exporter": "python",
   "pygments_lexer": "ipython3",
   "version": "3.7.9"
  }
 },
 "nbformat": 4,
 "nbformat_minor": 4
}
