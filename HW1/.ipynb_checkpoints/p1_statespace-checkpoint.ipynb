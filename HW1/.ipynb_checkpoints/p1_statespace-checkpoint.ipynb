{
 "cells": [
  {
   "cell_type": "code",
   "execution_count": 25,
   "metadata": {},
   "outputs": [
    {
     "name": "stdout",
     "output_type": "stream",
     "text": [
      "[5, 1]\n",
      "[3, 7]\n",
      "[0, 1]\n",
      "[3, 0]\n",
      "[4, 0]\n",
      "[0, 4]\n"
     ]
    }
   ],
   "source": [
    "################################################################################\n",
    "#\n",
    "# Course: CS 540, fall 2020\n",
    "# Homework: HW1\n",
    "# Date 9/13/2020\n",
    "# Name: Samuel Kruse\n",
    "#\n",
    "################################################################################\n",
    "#returns a copy of state which fills the jug corresponding to the \n",
    "#index in which (0 or 1) to its maximum capacity. Do not modify state.\n",
    "\n",
    "def copy(state):\n",
    "    sn = [0,0]\n",
    "    sn[0] = state[0]\n",
    "    sn[1] = state[1]\n",
    "    return sn\n",
    "\n",
    "def fill(state, max, which):\n",
    "    s1 = copy(state)\n",
    "    s1[which] = max[which]\n",
    "    return s1\n",
    "\n",
    " # — returns a copy of state which empties the jug corresponding to the\n",
    "#index in which (0 or 1). Do not modify state.\n",
    "def empty(state, max, which):\n",
    "    s1 = copy(state)\n",
    "    s1[which] = 0\n",
    "    return s1\n",
    "    \n",
    " #— returns a copy of state which pours the contents of the jug at index \n",
    "#source into the jug at index dest, until source is empty or dest is full. Do not modify state. xfer is shorthand for transfer.\n",
    "def xfer(state, max, source, dest):\n",
    "    s1 = copy(state)\n",
    "    sumDest = s1[source] + s1[dest]\n",
    "    if sumDest >= max[dest]:\n",
    "        s1[source] = sumDest - max[dest]\n",
    "        s1[dest] = max[dest]\n",
    "    else:\n",
    "        s1[dest] = sumDest\n",
    "        s1[source] = 0\n",
    "    \n",
    "    return s1\n",
    "\n",
    "#— prints the list of unique successor states of the current state in any order. \n",
    "#This function will generate the unique successor states of the current state by applying fill, empty, xfer operations on the current state. (Note: You have to apply an operation at every step for generating a successor state.)\n",
    "def succ(state, max):\n",
    "    s0 = copy(state)\n",
    "    stateSpace = []\n",
    "    stateSpace.append(fill(s0,max,0))\n",
    "    s1 = fill(s0,max,1)\n",
    "    if s1 not in stateSpace:\n",
    "        stateSpace.append(s1)\n",
    "\n",
    "    s2 = empty(s0, max,0)\n",
    "    if s2 not in stateSpace and s0[0] != 0:\n",
    "        stateSpace.append(s2)\n",
    "        \n",
    "    s3 = empty(s0, max,1)    \n",
    "    if s3 not in stateSpace and s0[1] != 0:\n",
    "        stateSpace.append(s3)\n",
    "        \n",
    "    s4 = xfer(s0, max, 1, 0)    \n",
    "    if s4 not in stateSpace:\n",
    "        stateSpace.append(s4)\n",
    "        \n",
    "    s5 = xfer(s0, max, 0, 1)\n",
    "    if s5 not in stateSpace:\n",
    "        stateSpace.append(s5)\n",
    "\n",
    "    for states in stateSpace:\n",
    "        print(states)\n",
    "    \n"
   ]
  },
  {
   "cell_type": "code",
   "execution_count": 24,
   "metadata": {},
   "outputs": [
    {
     "data": {
      "text/plain": [
       "[10, 5]"
      ]
     },
     "execution_count": 24,
     "metadata": {},
     "output_type": "execute_result"
    }
   ],
   "source": [
    "max=[10,5]\n",
    "s0=[10,5]\n",
    "s1 = fill(s0,max,1)\n",
    "xfer(s1,max,1,0)"
   ]
  },
  {
   "cell_type": "markdown",
   "metadata": {},
   "source": [
    ">>> max = [5,7]\n",
    ">>> s0 = [0,0]\n",
    ">>> fill(s0,max,1)\n",
    "[0,7]\n",
    ">>> s0\n",
    "[0,0]\n",
    ">>> fill(s0,max,0)\n",
    "[5,0]\n",
    ">>> s1 = fill(s0,max,1)\n",
    ">>> xfer(s1,max,1,0)\n",
    "[5,2]\n",
    ">>> succ(s0,max)\n",
    "[0,0]\n",
    "[5,0]\n",
    "[0,7]\n",
    "\n",
    ">>> max = [5,7]\n",
    ">>> s0 = [3,1]\n",
    ">>> succ(s0,max)\n",
    "[5,1]\n",
    "[3,7]\n",
    "[0,1]\n",
    "[3,0]\n",
    "[4,0]\n",
    "[0,4]"
   ]
  }
 ],
 "metadata": {
  "kernelspec": {
   "display_name": "Python 3",
   "language": "python",
   "name": "python3"
  },
  "language_info": {
   "codemirror_mode": {
    "name": "ipython",
    "version": 3
   },
   "file_extension": ".py",
   "mimetype": "text/x-python",
   "name": "python",
   "nbconvert_exporter": "python",
   "pygments_lexer": "ipython3",
   "version": "3.7.9"
  }
 },
 "nbformat": 4,
 "nbformat_minor": 4
}
